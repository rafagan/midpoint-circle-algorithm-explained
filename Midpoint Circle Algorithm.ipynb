{
 "cells": [
  {
   "cell_type": "markdown",
   "metadata": {
    "button": false,
    "deletable": true,
    "new_sheet": false,
    "run_control": {
     "read_only": false
    }
   },
   "source": [
    "## Midpoint Circle Algorithm\n",
    "\n",
    "\n",
    "Uma das formas de desenharmos um círculo seria calcularmos a curva da circunferência no primeiro quadrante e projetarmos simetricamente nos demais quadrantes. Uma das técnicas para tal é o **Midpoint Circle Algorithm**, muito famoso na Computação Gráfica e utilizado a gerações de computadores para evitar o uso de trigonometria na rasterização de círculos.\n",
    "\n",
    "O algoritmo consiste em utilizar a equação do círculo para decidir se deve mover ou não no eixo y para desenhar um novo ponto. O desenho é feito de maneira dividida em 8 octantes, onde no primeiro são feitos todos os cálculos e para os demais é feita a projeção simétrica a partir do primeiro.\n",
    "\n",
    "Analisando uma circunferência, é possível perceber:\n",
    "\n",
    "a) Um raio r\n",
    "\n",
    "b) Um primeiro ponto a 90˚:\n",
    "\n",
    "$$(x_0, y_0) = (0, r)$$\n",
    "\n",
    "c) Sucessivos pontos desenhados a partir do primeiro, em sentido horário enquanto x < y, definindo assim o primeiro octante\n",
    "\n",
    "d) A projeção simétrica dos pontos do primeiro octante de forma a encontrar os demais. Cada octante representa uma fatia de 45˚ da circunferência:\n",
    "\n",
    "- (x, y)\n",
    "- (y, x)\n",
    "- (-y, x)\n",
    "- (-x, y)\n",
    "- (-x, -y)\n",
    "- (-y, -x)\n",
    "- (y, -x)\n",
    "- (x, -y)\n",
    "\n",
    "e) Pela equação do círculo:\n",
    "\n",
    "$$x^2 + y^2 = r^2 \\therefore x^2 + y^2 - r^2 = 0$$\n",
    "\n",
    "Percebemos que dada uma coordenada (x, y) e um raio r, o resultado p(x, y) será:\n",
    "\n",
    "$$p(x, y) = x^2 + y^2 - r^2$$\n",
    "\n",
    "- p = 0 se a coordenada interceptar a circunferência do círculo\n",
    "- p < 0 se a coordenada estiver dentro da área do círculo\n",
    "- p > 0 se a coordenada estiver fora da área do círculo"
   ]
  },
  {
   "cell_type": "markdown",
   "metadata": {
    "button": false,
    "deletable": true,
    "new_sheet": false,
    "run_control": {
     "read_only": false
    }
   },
   "source": [
    "Para aplicarmos o algoritmo, consideramos como o ponto da equação da circuferência a média entre dois prováveis candidatos a uma próxima coordenada válida da circunferência, partindo da primeira:\n",
    "\n",
    "$$(x_{k + 1}, y_{k - 1})$$\n",
    "\n",
    "ou\n",
    "\n",
    "$$(x_{k + 1}, y_k)$$\n",
    "\n",
    "Para entender a escolha das duas coordenadas, basta observar que no primeiro octante, que vai de 90˚ a 45˚, o valor de x sempre cresce e o de y ocasionalmente decresce. Tal média de coordenadas nos dá uma heurística interessante para aplicarmos a rasterização dos pixels.\n",
    "\n",
    "Sendo assim, a média dos dois pontos será:\n",
    "\n",
    "$$x_m = \\frac{x_k + 1 + x_k + 1}{2}$$\n",
    "\n",
    "$$y_m = \\frac{y_k - 1 + y_k}{2}$$\n",
    "\n",
    "$$\\therefore (x_m, y_m) = (x_k + 1, y_k - \\frac{1}{2})$$\n",
    "\n",
    "Aplicando o ponto médio (que dá nome ao algoritmo) à equação do círculo, temos a métrica p necessária para decidirmos como vamos desenhar cada coordenada válida da circunferência no primeiro octante:\n",
    "\n",
    "$$p_k = (x_k + 1)^2 + (y_k - \\frac{1}{2})^2 - r^2$$\n",
    "\n",
    "$$p_{k + 1} = (x_{k + 1} + 1)^2 + (y_k - \\frac{1}{2})^2 - r^2$$\n",
    "\n",
    "Ainda precisamos da diferença de p entre duas coordenadas adjacentes, assim teremos como métrica a variação do ponto médio das duas próximas coordenadas em potencial, nos ajudando desta forma a decidir qual deve ser a escolhida:\n",
    "\n",
    "$$p' = p_{k + 1} - p_k = 2(x_k + 1) + (y^2_{k + 1} - y^2_k) - (y_{k + 1} - y_k) + 1$$\n",
    "\n",
    "Assim, o próximo valor de p é:\n",
    "\n",
    "$$p_{k + 1} = p_k + p'$$\n",
    "\n",
    "Através de p, escolheremos o próximo ponto a ser desenhado:\n",
    "\n",
    "- Se p ≥ 0 então a coordenada extrapola ou intercepta a circunferência e precisamos decrementar y, logo a coordenada escolhida será $$(x_{k + 1}, y_k - 1)$$\n",
    "- Se p < 0 então a coordenada intersecciona a área do círculo e não precisamos decrementar y, logo a coordenada escolhida será $$(x_{k + 1}, y_k)$$\n",
    "\n",
    "O último desafio é escolher o primeiro valor de p. Aplicando a coordenada (0, r) à equação do círculo com os pontos médios. Para fins de rasterização, ignoramos o resto da divisão e, portanto, arredondamos o resultado:\n",
    "\n",
    "$$p_0 = \\lfloor(0 + 1)^2 + (r - \\frac{1}{2})^2 - r^2 \\rceil = \\lfloor \\frac{5}{4} - r \\rceil = 1 - r$$\n",
    "\n"
   ]
  },
  {
   "cell_type": "code",
   "execution_count": 1,
   "metadata": {
    "button": false,
    "collapsed": false,
    "deletable": true,
    "new_sheet": false,
    "run_control": {
     "read_only": false
    }
   },
   "outputs": [
    {
     "data": {
      "image/png": "[encoded data removed]",
      "text/plain": [
       "<matplotlib.figure.Figure at 0x10ceccac8>"
      ]
     },
     "metadata": {},
     "output_type": "display_data"
    }
   ],
   "source": [
    "import warnings\n",
    "warnings.filterwarnings('ignore')\n",
    "%matplotlib inline\n",
    "import matplotlib.pyplot as plt\n",
    "\n",
    "r = 100\n",
    "\n",
    "p = 1 - r\n",
    "x = 0\n",
    "y = r\n",
    "\n",
    "while x < y:\n",
    "    x += 1\n",
    "    \n",
    "    _y = y\n",
    "    y = y - 1 if p >= 0 else y\n",
    "\n",
    "    p = p + 2 * (x + 1) + (y**2 - _y**2) - (y - _y) + 1\n",
    "    \n",
    "    plt.scatter(x, y, s=1)\n",
    "    plt.scatter(y, x, s=1)\n",
    "    plt.scatter(-y, x, s=1)\n",
    "    plt.scatter(-x, y, s=1)\n",
    "    plt.scatter(-x, -y, s=1)\n",
    "    plt.scatter(-y, -x, s=1)\n",
    "    plt.scatter(y, -x, s=1)\n",
    "    plt.scatter(x, -y, s=1)\n",
    "\n",
    "    \n",
    "plt.show()"
   ]
  }
 ],
 "metadata": {
  "kernelspec": {
   "display_name": "Python 3",
   "language": "python",
   "name": "python3"
  },
  "language_info": {
   "codemirror_mode": {
    "name": "ipython",
    "version": 3
   },
   "file_extension": ".py",
   "mimetype": "text/x-python",
   "name": "python",
   "nbconvert_exporter": "python",
   "pygments_lexer": "ipython3",
   "version": "3.5.0"
  }
 },
 "nbformat": 4,
 "nbformat_minor": 0
}
